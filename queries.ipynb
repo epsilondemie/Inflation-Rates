{
 "cells": [
  {
   "cell_type": "code",
   "execution_count": 26,
   "id": "59f58b5c",
   "metadata": {},
   "outputs": [],
   "source": [
    "import pandas as pd\n",
    "import matplotlib.pyplot as plt\n",
    "import sqlite3\n",
    "\n",
    "conn = sqlite3.connect('infldatabase.db')\n",
    "cursor = conn.cursor()"
   ]
  },
  {
   "cell_type": "code",
   "execution_count": 27,
   "id": "cac64d7f",
   "metadata": {},
   "outputs": [
    {
     "data": {
      "text/html": [
       "<div>\n",
       "<style scoped>\n",
       "    .dataframe tbody tr th:only-of-type {\n",
       "        vertical-align: middle;\n",
       "    }\n",
       "\n",
       "    .dataframe tbody tr th {\n",
       "        vertical-align: top;\n",
       "    }\n",
       "\n",
       "    .dataframe thead th {\n",
       "        text-align: right;\n",
       "    }\n",
       "</style>\n",
       "<table border=\"1\" class=\"dataframe\">\n",
       "  <thead>\n",
       "    <tr style=\"text-align: right;\">\n",
       "      <th></th>\n",
       "      <th>CountryName</th>\n",
       "      <th>CountryCode</th>\n",
       "      <th>AnnualInflation</th>\n",
       "    </tr>\n",
       "  </thead>\n",
       "  <tbody>\n",
       "    <tr>\n",
       "      <th>0</th>\n",
       "      <td>Lebanon</td>\n",
       "      <td>LBN</td>\n",
       "      <td>171.205491</td>\n",
       "    </tr>\n",
       "    <tr>\n",
       "      <th>1</th>\n",
       "      <td>Sudan</td>\n",
       "      <td>SDN</td>\n",
       "      <td>138.808460</td>\n",
       "    </tr>\n",
       "    <tr>\n",
       "      <th>2</th>\n",
       "      <td>Zimbabwe</td>\n",
       "      <td>ZWE</td>\n",
       "      <td>104.705171</td>\n",
       "    </tr>\n",
       "    <tr>\n",
       "      <th>3</th>\n",
       "      <td>Turkiye</td>\n",
       "      <td>TUR</td>\n",
       "      <td>72.308836</td>\n",
       "    </tr>\n",
       "    <tr>\n",
       "      <th>4</th>\n",
       "      <td>Suriname</td>\n",
       "      <td>SUR</td>\n",
       "      <td>52.446027</td>\n",
       "    </tr>\n",
       "    <tr>\n",
       "      <th>...</th>\n",
       "      <td>...</td>\n",
       "      <td>...</td>\n",
       "      <td>...</td>\n",
       "    </tr>\n",
       "    <tr>\n",
       "      <th>183</th>\n",
       "      <td>Papua New Guinea</td>\n",
       "      <td>PNG</td>\n",
       "      <td>5.253239</td>\n",
       "    </tr>\n",
       "    <tr>\n",
       "      <th>184</th>\n",
       "      <td>France</td>\n",
       "      <td>FRA</td>\n",
       "      <td>5.222367</td>\n",
       "    </tr>\n",
       "    <tr>\n",
       "      <th>185</th>\n",
       "      <td>Djibouti</td>\n",
       "      <td>DJI</td>\n",
       "      <td>5.179808</td>\n",
       "    </tr>\n",
       "    <tr>\n",
       "      <th>186</th>\n",
       "      <td>Korea, Rep.</td>\n",
       "      <td>KOR</td>\n",
       "      <td>5.089514</td>\n",
       "    </tr>\n",
       "    <tr>\n",
       "      <th>187</th>\n",
       "      <td>Arab World</td>\n",
       "      <td>ARB</td>\n",
       "      <td>5.087542</td>\n",
       "    </tr>\n",
       "  </tbody>\n",
       "</table>\n",
       "<p>188 rows × 3 columns</p>\n",
       "</div>"
      ],
      "text/plain": [
       "          CountryName CountryCode  AnnualInflation\n",
       "0             Lebanon         LBN       171.205491\n",
       "1               Sudan         SDN       138.808460\n",
       "2            Zimbabwe         ZWE       104.705171\n",
       "3             Turkiye         TUR        72.308836\n",
       "4            Suriname         SUR        52.446027\n",
       "..                ...         ...              ...\n",
       "183  Papua New Guinea         PNG         5.253239\n",
       "184            France         FRA         5.222367\n",
       "185          Djibouti         DJI         5.179808\n",
       "186       Korea, Rep.         KOR         5.089514\n",
       "187        Arab World         ARB         5.087542\n",
       "\n",
       "[188 rows x 3 columns]"
      ]
     },
     "execution_count": 27,
     "metadata": {},
     "output_type": "execute_result"
    }
   ],
   "source": [
    "#query\n",
    "query = '''\n",
    "SELECT CountryName, CountryCode, AnnualInflation\n",
    "FROM InflationRates\n",
    "WHERE AnnualInflation > 5\n",
    "ORDER BY AnnualInflation DESC\n",
    "'''\n",
    "#fetches the result\n",
    "df_high_inflation = pd.read_sql_query(query, conn)\n",
    "#displays the result\n",
    "df_high_inflation"
   ]
  },
  {
   "cell_type": "markdown",
   "id": "dccd6567",
   "metadata": {},
   "source": [
    "# Inflation Rates for 2022"
   ]
  },
  {
   "cell_type": "markdown",
   "id": "f9702d7c",
   "metadata": {},
   "source": [
    "### Which country had the highest inflation rate in 2022? "
   ]
  },
  {
   "cell_type": "code",
   "execution_count": 28,
   "id": "16d4bbd4",
   "metadata": {},
   "outputs": [
    {
     "data": {
      "text/html": [
       "<div>\n",
       "<style scoped>\n",
       "    .dataframe tbody tr th:only-of-type {\n",
       "        vertical-align: middle;\n",
       "    }\n",
       "\n",
       "    .dataframe tbody tr th {\n",
       "        vertical-align: top;\n",
       "    }\n",
       "\n",
       "    .dataframe thead th {\n",
       "        text-align: right;\n",
       "    }\n",
       "</style>\n",
       "<table border=\"1\" class=\"dataframe\">\n",
       "  <thead>\n",
       "    <tr style=\"text-align: right;\">\n",
       "      <th></th>\n",
       "      <th>CountryName</th>\n",
       "      <th>AnnualInflation</th>\n",
       "    </tr>\n",
       "  </thead>\n",
       "  <tbody>\n",
       "    <tr>\n",
       "      <th>0</th>\n",
       "      <td>Lebanon</td>\n",
       "      <td>171.205491</td>\n",
       "    </tr>\n",
       "  </tbody>\n",
       "</table>\n",
       "</div>"
      ],
      "text/plain": [
       "  CountryName  AnnualInflation\n",
       "0     Lebanon       171.205491"
      ]
     },
     "execution_count": 28,
     "metadata": {},
     "output_type": "execute_result"
    }
   ],
   "source": [
    "conn = sqlite3.connect('infldatabase.db')\n",
    "cursor = conn.cursor()\n",
    "\n",
    "highest_rate = '''SELECT CountryName, AnnualInflation\n",
    "FROM InflationRates\n",
    "WHERE AnnualInflation = (SELECT MAX(AnnualInflation) FROM InflationRates)\n",
    "'''\n",
    "\n",
    "df_high_inflation = pd.read_sql_query(highest_rate,conn)\n",
    "df_high_inflation"
   ]
  },
  {
   "cell_type": "markdown",
   "id": "22136c89",
   "metadata": {},
   "source": [
    "What was the global annual inflation rate in 2022? "
   ]
  },
  {
   "cell_type": "code",
   "execution_count": 29,
   "id": "45f8c652",
   "metadata": {},
   "outputs": [
    {
     "name": "stdout",
     "output_type": "stream",
     "text": [
      "The average global inflation in 2022 was:\n"
     ]
    },
    {
     "data": {
      "text/html": [
       "<div>\n",
       "<style scoped>\n",
       "    .dataframe tbody tr th:only-of-type {\n",
       "        vertical-align: middle;\n",
       "    }\n",
       "\n",
       "    .dataframe tbody tr th {\n",
       "        vertical-align: top;\n",
       "    }\n",
       "\n",
       "    .dataframe thead th {\n",
       "        text-align: right;\n",
       "    }\n",
       "</style>\n",
       "<table border=\"1\" class=\"dataframe\">\n",
       "  <thead>\n",
       "    <tr style=\"text-align: right;\">\n",
       "      <th></th>\n",
       "      <th>Annual_Inflation</th>\n",
       "    </tr>\n",
       "  </thead>\n",
       "  <tbody>\n",
       "    <tr>\n",
       "      <th>0</th>\n",
       "      <td>11.493083</td>\n",
       "    </tr>\n",
       "  </tbody>\n",
       "</table>\n",
       "</div>"
      ],
      "text/plain": [
       "   Annual_Inflation\n",
       "0         11.493083"
      ]
     },
     "execution_count": 29,
     "metadata": {},
     "output_type": "execute_result"
    }
   ],
   "source": [
    "conn = sqlite3.connect('infldatabase.db')\n",
    "cursor = conn.cursor()\n",
    "print('The average global inflation in 2022 was:')\n",
    "\n",
    "average_rate ='''SELECT AVG(AnnualInflation) AS Annual_Inflation\n",
    "FROM InflationRates'''\n",
    "\n",
    "df_average_inflation = pd.read_sql_query(average_rate, conn)\n",
    "df_average_inflation"
   ]
  }
 ],
 "metadata": {
  "kernelspec": {
   "display_name": "Python 3",
   "language": "python",
   "name": "python3"
  },
  "language_info": {
   "codemirror_mode": {
    "name": "ipython",
    "version": 3
   },
   "file_extension": ".py",
   "mimetype": "text/x-python",
   "name": "python",
   "nbconvert_exporter": "python",
   "pygments_lexer": "ipython3",
   "version": "3.12.1"
  }
 },
 "nbformat": 4,
 "nbformat_minor": 5
}
