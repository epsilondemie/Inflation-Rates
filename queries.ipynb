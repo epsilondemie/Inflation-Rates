{
 "cells": [
  {
   "cell_type": "code",
   "execution_count": 34,
   "id": "59f58b5c",
   "metadata": {},
   "outputs": [],
   "source": [
    "import pandas as pd\n",
    "import matplotlib.pyplot as plt\n",
    "import sqlite3\n",
    "\n",
    "conn = sqlite3.connect('infldatabase.db')\n",
    "cursor = conn.cursor()"
   ]
  },
  {
   "cell_type": "markdown",
   "id": "dccd6567",
   "metadata": {},
   "source": [
    "# Inflation Rates for 2022"
   ]
  },
  {
   "cell_type": "markdown",
   "id": "f9702d7c",
   "metadata": {},
   "source": [
    "### Which country had the highest inflation rate in 2022? "
   ]
  },
  {
   "cell_type": "code",
   "execution_count": 35,
   "id": "16d4bbd4",
   "metadata": {},
   "outputs": [
    {
     "data": {
      "text/html": [
       "<div>\n",
       "<style scoped>\n",
       "    .dataframe tbody tr th:only-of-type {\n",
       "        vertical-align: middle;\n",
       "    }\n",
       "\n",
       "    .dataframe tbody tr th {\n",
       "        vertical-align: top;\n",
       "    }\n",
       "\n",
       "    .dataframe thead th {\n",
       "        text-align: right;\n",
       "    }\n",
       "</style>\n",
       "<table border=\"1\" class=\"dataframe\">\n",
       "  <thead>\n",
       "    <tr style=\"text-align: right;\">\n",
       "      <th></th>\n",
       "      <th>CountryName</th>\n",
       "      <th>AnnualInflation</th>\n",
       "    </tr>\n",
       "  </thead>\n",
       "  <tbody>\n",
       "    <tr>\n",
       "      <th>0</th>\n",
       "      <td>Lebanon</td>\n",
       "      <td>171.205491</td>\n",
       "    </tr>\n",
       "  </tbody>\n",
       "</table>\n",
       "</div>"
      ],
      "text/plain": [
       "  CountryName  AnnualInflation\n",
       "0     Lebanon       171.205491"
      ]
     },
     "execution_count": 35,
     "metadata": {},
     "output_type": "execute_result"
    }
   ],
   "source": [
    "conn = sqlite3.connect('infldatabase.db')\n",
    "cursor = conn.cursor()\n",
    "\n",
    "highest_rate = '''SELECT CountryName, AnnualInflation\n",
    "FROM InflationRates\n",
    "WHERE AnnualInflation = (SELECT MAX(AnnualInflation) FROM InflationRates)\n",
    "'''\n",
    "\n",
    "df_high_inflation = pd.read_sql_query(highest_rate,conn)\n",
    "df_high_inflation"
   ]
  },
  {
   "cell_type": "markdown",
   "id": "22136c89",
   "metadata": {},
   "source": [
    "What was the global average annual inflation rate in 2022? "
   ]
  },
  {
   "cell_type": "code",
   "execution_count": 36,
   "id": "45f8c652",
   "metadata": {},
   "outputs": [
    {
     "name": "stdout",
     "output_type": "stream",
     "text": [
      "The average global inflation in 2022 was:\n"
     ]
    },
    {
     "data": {
      "text/html": [
       "<div>\n",
       "<style scoped>\n",
       "    .dataframe tbody tr th:only-of-type {\n",
       "        vertical-align: middle;\n",
       "    }\n",
       "\n",
       "    .dataframe tbody tr th {\n",
       "        vertical-align: top;\n",
       "    }\n",
       "\n",
       "    .dataframe thead th {\n",
       "        text-align: right;\n",
       "    }\n",
       "</style>\n",
       "<table border=\"1\" class=\"dataframe\">\n",
       "  <thead>\n",
       "    <tr style=\"text-align: right;\">\n",
       "      <th></th>\n",
       "      <th>Annual_Inflation</th>\n",
       "    </tr>\n",
       "  </thead>\n",
       "  <tbody>\n",
       "    <tr>\n",
       "      <th>0</th>\n",
       "      <td>11.493083</td>\n",
       "    </tr>\n",
       "  </tbody>\n",
       "</table>\n",
       "</div>"
      ],
      "text/plain": [
       "   Annual_Inflation\n",
       "0         11.493083"
      ]
     },
     "execution_count": 36,
     "metadata": {},
     "output_type": "execute_result"
    }
   ],
   "source": [
    "conn = sqlite3.connect('infldatabase.db')\n",
    "cursor = conn.cursor()\n",
    "print('The average global inflation in 2022 was:')\n",
    "\n",
    "average_rate ='''SELECT AVG(AnnualInflation) AS Annual_Inflation\n",
    "FROM InflationRates'''\n",
    "\n",
    "df_average_inflation = pd.read_sql_query(average_rate, conn)\n",
    "df_average_inflation"
   ]
  },
  {
   "cell_type": "markdown",
   "id": "a9c56252",
   "metadata": {},
   "source": [
    "Which countries experienced an average inflation rate over 30%? "
   ]
  },
  {
   "cell_type": "code",
   "execution_count": 37,
   "id": "a75029c5",
   "metadata": {},
   "outputs": [
    {
     "data": {
      "text/html": [
       "<div>\n",
       "<style scoped>\n",
       "    .dataframe tbody tr th:only-of-type {\n",
       "        vertical-align: middle;\n",
       "    }\n",
       "\n",
       "    .dataframe tbody tr th {\n",
       "        vertical-align: top;\n",
       "    }\n",
       "\n",
       "    .dataframe thead th {\n",
       "        text-align: right;\n",
       "    }\n",
       "</style>\n",
       "<table border=\"1\" class=\"dataframe\">\n",
       "  <thead>\n",
       "    <tr style=\"text-align: right;\">\n",
       "      <th></th>\n",
       "      <th>CountryName</th>\n",
       "      <th>CountryCode</th>\n",
       "      <th>AnnualInflation</th>\n",
       "    </tr>\n",
       "  </thead>\n",
       "  <tbody>\n",
       "    <tr>\n",
       "      <th>0</th>\n",
       "      <td>Lebanon</td>\n",
       "      <td>LBN</td>\n",
       "      <td>171.205491</td>\n",
       "    </tr>\n",
       "    <tr>\n",
       "      <th>1</th>\n",
       "      <td>Sudan</td>\n",
       "      <td>SDN</td>\n",
       "      <td>138.808460</td>\n",
       "    </tr>\n",
       "    <tr>\n",
       "      <th>2</th>\n",
       "      <td>Zimbabwe</td>\n",
       "      <td>ZWE</td>\n",
       "      <td>104.705171</td>\n",
       "    </tr>\n",
       "    <tr>\n",
       "      <th>3</th>\n",
       "      <td>Turkiye</td>\n",
       "      <td>TUR</td>\n",
       "      <td>72.308836</td>\n",
       "    </tr>\n",
       "    <tr>\n",
       "      <th>4</th>\n",
       "      <td>Suriname</td>\n",
       "      <td>SUR</td>\n",
       "      <td>52.446027</td>\n",
       "    </tr>\n",
       "    <tr>\n",
       "      <th>5</th>\n",
       "      <td>Sri Lanka</td>\n",
       "      <td>LKA</td>\n",
       "      <td>49.721102</td>\n",
       "    </tr>\n",
       "    <tr>\n",
       "      <th>6</th>\n",
       "      <td>Iran, Islamic Rep.</td>\n",
       "      <td>IRN</td>\n",
       "      <td>43.488464</td>\n",
       "    </tr>\n",
       "    <tr>\n",
       "      <th>7</th>\n",
       "      <td>Haiti</td>\n",
       "      <td>HTI</td>\n",
       "      <td>33.983932</td>\n",
       "    </tr>\n",
       "    <tr>\n",
       "      <th>8</th>\n",
       "      <td>Ethiopia</td>\n",
       "      <td>ETH</td>\n",
       "      <td>33.889880</td>\n",
       "    </tr>\n",
       "    <tr>\n",
       "      <th>9</th>\n",
       "      <td>Ghana</td>\n",
       "      <td>GHA</td>\n",
       "      <td>31.255895</td>\n",
       "    </tr>\n",
       "  </tbody>\n",
       "</table>\n",
       "</div>"
      ],
      "text/plain": [
       "          CountryName CountryCode  AnnualInflation\n",
       "0             Lebanon         LBN       171.205491\n",
       "1               Sudan         SDN       138.808460\n",
       "2            Zimbabwe         ZWE       104.705171\n",
       "3             Turkiye         TUR        72.308836\n",
       "4            Suriname         SUR        52.446027\n",
       "5           Sri Lanka         LKA        49.721102\n",
       "6  Iran, Islamic Rep.         IRN        43.488464\n",
       "7               Haiti         HTI        33.983932\n",
       "8            Ethiopia         ETH        33.889880\n",
       "9               Ghana         GHA        31.255895"
      ]
     },
     "execution_count": 37,
     "metadata": {},
     "output_type": "execute_result"
    }
   ],
   "source": [
    "\n",
    "Inflation_over_5 = '''\n",
    "SELECT CountryName, CountryCode, AnnualInflation\n",
    "FROM InflationRates\n",
    "WHERE AnnualInflation > 30\n",
    "ORDER BY AnnualInflation DESC\n",
    "'''\n",
    "#fetches the result\n",
    "df_high_inflation = pd.read_sql_query(Inflation_over_5, conn)\n",
    "#displays the result\n",
    "df_high_inflation"
   ]
  }
 ],
 "metadata": {
  "kernelspec": {
   "display_name": "Python 3",
   "language": "python",
   "name": "python3"
  },
  "language_info": {
   "codemirror_mode": {
    "name": "ipython",
    "version": 3
   },
   "file_extension": ".py",
   "mimetype": "text/x-python",
   "name": "python",
   "nbconvert_exporter": "python",
   "pygments_lexer": "ipython3",
   "version": "3.12.1"
  }
 },
 "nbformat": 4,
 "nbformat_minor": 5
}
