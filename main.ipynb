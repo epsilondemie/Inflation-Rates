{
 "cells": [
  {
   "cell_type": "code",
   "execution_count": 1,
   "id": "3281c47c",
   "metadata": {},
   "outputs": [],
   "source": [
    "import pandas as pd\n",
    "import matplotlib.pyplot as plt\n",
    "import sqlite3"
   ]
  },
  {
   "cell_type": "code",
   "execution_count": 2,
   "id": "094af741",
   "metadata": {},
   "outputs": [],
   "source": [
    "conn = sqlite3.connect('infldatabase.db')\n",
    "cursor = conn.cursor()"
   ]
  },
  {
   "cell_type": "code",
   "execution_count": 3,
   "id": "41243251",
   "metadata": {},
   "outputs": [],
   "source": [
    "# cursor.execute('''\n",
    "# CREATE TABLE IF NOT EXISTS InflationRates (\n",
    "#     CountryName TEXT NOT NULL,\n",
    "#     CountryCode TEXT NOT NULL,\n",
    "#     AnnualInflation REAL,\n",
    "#     PRIMARY KEY (CountryCode)\n",
    "# )\n",
    "# ''')\n",
    "# conn.commit()"
   ]
  },
  {
   "cell_type": "code",
   "execution_count": null,
   "id": "6f13113b",
   "metadata": {},
   "outputs": [],
   "source": [
    "# df_inflation = pd.read_csv('Inflation rates.csv')\n",
    "# for index, row in df_inflation.iterrows():\n",
    "#     cursor.execute(\n",
    "#         \"INSERT OR IGNORE INTO InflationRates (CountryName, CountryCode, AnnualInflation) VALUES (?, ?, ?)\",\n",
    "#         (row.iloc[0], row.iloc[1], row.iloc[2])\n",
    "#     )\n",
    "\n",
    "# conn.commit()\n"
   ]
  }
 ],
 "metadata": {
  "kernelspec": {
   "display_name": "Python 3",
   "language": "python",
   "name": "python3"
  },
  "language_info": {
   "codemirror_mode": {
    "name": "ipython",
    "version": 3
   },
   "file_extension": ".py",
   "mimetype": "text/x-python",
   "name": "python",
   "nbconvert_exporter": "python",
   "pygments_lexer": "ipython3",
   "version": "3.12.1"
  }
 },
 "nbformat": 4,
 "nbformat_minor": 5
}
